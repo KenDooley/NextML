{
 "metadata": {
  "language": "Julia",
  "name": "",
  "signature": "sha256:1bcf024ed8a4ecfbf1d8e63555b28ef8dfae43e0197402305670258e3c600cab"
 },
 "nbformat": 3,
 "nbformat_minor": 0,
 "worksheets": [
  {
   "cells": [
    {
     "cell_type": "heading",
     "level": 1,
     "metadata": {},
     "source": [
      "What is Julia?"
     ]
    },
    {
     "cell_type": "markdown",
     "metadata": {},
     "source": [
      "Julia is a dynamically typed programming language that provides high performance by taking advantage of:\n",
      "\n",
      "* (A) a machine-friendly type system,\n",
      "* (B) automatic type inference, and\n",
      "* (C) a cultural tradition of writing type inference-friendly code.\n",
      "\n",
      "Collectively, these three properties allow the Julia compiler to translate code written in a \"high-level\" language into machine code that is comparable in efficiency to code generated from a \"low-level\" language."
     ]
    },
    {
     "cell_type": "markdown",
     "metadata": {},
     "source": [
      "To understand these three parts, let's start learning Julia."
     ]
    },
    {
     "cell_type": "heading",
     "level": 1,
     "metadata": {},
     "source": [
      "Expressions in Julia"
     ]
    },
    {
     "cell_type": "markdown",
     "metadata": {},
     "source": [
      "Like Lisp, Julia code is written in terms of expressions. Everything you can type into the REPL has a value."
     ]
    },
    {
     "cell_type": "markdown",
     "metadata": {},
     "source": [
      "But, unlike Lisp, Julia's core syntax is familiar to users of languages like C, Java, Python or Ruby."
     ]
    },
    {
     "cell_type": "code",
     "collapsed": false,
     "input": [
      "function fizzbuzz(lower, upper)\n",
      "    for i in lower:upper\n",
      "        if mod(i, 3) == 0\n",
      "            print(\"Fizz\")\n",
      "            if mod(i, 5) == 0\n",
      "                print(\"Buzz\")\n",
      "            end\n",
      "        else\n",
      "            if mod(i, 5) == 0\n",
      "                print(\"Buzz\")\n",
      "            else\n",
      "                print(i)\n",
      "            end\n",
      "        end\n",
      "        print(\"\\n\")\n",
      "    end\n",
      "end"
     ],
     "language": "python",
     "metadata": {},
     "outputs": []
    },
    {
     "cell_type": "code",
     "collapsed": false,
     "input": [
      "fizzbuzz(5, 15)"
     ],
     "language": "python",
     "metadata": {},
     "outputs": []
    },
    {
     "cell_type": "markdown",
     "metadata": {},
     "source": [
      "In general, Julia code is built up out of simple primitives:\n",
      "\n",
      "* Variables:\n",
      "    * `lower`\n",
      "    * `upper`\n",
      "    * `i`\n",
      "* Literals:\n",
      "    * `3`\n",
      "    * `\"Fizz\"`\n",
      "    * `\"\\n\"`\n",
      "* Iterative constructs:\n",
      "    * `for`\n",
      "    * `while`\n",
      "* Branching constructs:\n",
      "    * `if`\n",
      "    * `if`-`else`\n",
      "    * `cond ? a : b`\n",
      "* Function definitions:\n",
      "    * `function foo(arg1, arg2, ...)`\n",
      "    * `foo(arg1, arg2, ...)`"
     ]
    },
    {
     "cell_type": "markdown",
     "metadata": {},
     "source": [
      "What separates Julia from a language like Python is the way that users can define new types and can dispatch functions based on types. We'll start by examining how types are defined in Julia and then we'll show how multiple dispatch allows us to define functions that vary their behavior depending on the types of their arguments."
     ]
    },
    {
     "cell_type": "markdown",
     "metadata": {},
     "source": [
      "To get started, let's define a new type, `Foo1`, that wraps around two values, `a` and `b`:"
     ]
    },
    {
     "cell_type": "code",
     "collapsed": false,
     "input": [
      "type Foo1\n",
      "    a\n",
      "    b\n",
      "end"
     ],
     "language": "python",
     "metadata": {},
     "outputs": []
    },
    {
     "cell_type": "markdown",
     "metadata": {},
     "source": [
      "This definition is valid Julia code, but would be considered very poor style because the types of `a` and `b` are both implicit and unspecialized. The definition above is equivalent to the following explicitly-typed definition:"
     ]
    },
    {
     "cell_type": "code",
     "collapsed": false,
     "input": [
      "type Foo2\n",
      "    a::Any\n",
      "    b::Any\n",
      "end"
     ],
     "language": "python",
     "metadata": {},
     "outputs": []
    },
    {
     "cell_type": "markdown",
     "metadata": {},
     "source": [
      "Here, the `a::Any` line indicates that `Foo2` has a field named `a` that is of type `Any`. Likewise, the `b::Any` line indicates that `Foo2` has a field named `b` that is also of type `Any`."
     ]
    },
    {
     "cell_type": "markdown",
     "metadata": {},
     "source": [
      "The `Any` type means that the fields of `Foo` can be literally any kind of value:"
     ]
    },
    {
     "cell_type": "code",
     "collapsed": false,
     "input": [
      "Foo1(1, 1.0)"
     ],
     "language": "python",
     "metadata": {},
     "outputs": []
    },
    {
     "cell_type": "code",
     "collapsed": false,
     "input": [
      "Foo1(1.0, 1)"
     ],
     "language": "python",
     "metadata": {},
     "outputs": []
    },
    {
     "cell_type": "code",
     "collapsed": false,
     "input": [
      "Foo1(1.0, 1.0)"
     ],
     "language": "python",
     "metadata": {},
     "outputs": []
    },
    {
     "cell_type": "code",
     "collapsed": false,
     "input": [
      "Foo1(1, 1)"
     ],
     "language": "python",
     "metadata": {},
     "outputs": []
    },
    {
     "cell_type": "code",
     "collapsed": false,
     "input": [
      "Foo1(1.0, \"1.0\")"
     ],
     "language": "python",
     "metadata": {},
     "outputs": []
    },
    {
     "cell_type": "code",
     "collapsed": false,
     "input": [
      "Foo1(\"bar\", Foo1(\"barbar\", \"foofoo\"))"
     ],
     "language": "python",
     "metadata": {},
     "outputs": []
    },
    {
     "cell_type": "markdown",
     "metadata": {},
     "source": [
      "In short, literally anything could exist inside of a `Foo` object's fields.\n",
      "\n",
      "This is because `Any` is the most abstract type in Julia's type system. To see what that means, let's descend down Julia's type hierarchy a bit:"
     ]
    },
    {
     "cell_type": "markdown",
     "metadata": {},
     "source": [
      "![Foo](files/JuliaTypeTree.png)"
     ]
    },
    {
     "cell_type": "markdown",
     "metadata": {},
     "source": [
      "What we see here is a chain of types that become progressively less abstract, until we hit the bottom level. At the bottom level, we encounter \"concrete types\", which are types that have no children. (This is important for the compiler, because it means that \"concrete types\" have a single possible representation in memory.)\n",
      "\n",
      "We can explore the child/parent relationships between types using the `subtypes`, `super` and `<:` functions:"
     ]
    },
    {
     "cell_type": "code",
     "collapsed": false,
     "input": [
      "subtypes(Real)"
     ],
     "language": "python",
     "metadata": {},
     "outputs": []
    },
    {
     "cell_type": "code",
     "collapsed": false,
     "input": [
      "super(FloatingPoint)"
     ],
     "language": "python",
     "metadata": {},
     "outputs": []
    },
    {
     "cell_type": "code",
     "collapsed": false,
     "input": [
      "FloatingPoint <: Real"
     ],
     "language": "python",
     "metadata": {},
     "outputs": []
    },
    {
     "cell_type": "code",
     "collapsed": false,
     "input": [
      "Real <: FloatingPoint"
     ],
     "language": "python",
     "metadata": {},
     "outputs": []
    },
    {
     "cell_type": "markdown",
     "metadata": {},
     "source": [
      "Abstract types, like `FloatingPoint`, are used to express generic operations. For example, we expect all `FloatingPoint` types to implement the `eps` method, which tells us how far away the closest floating value is when moving up:"
     ]
    },
    {
     "cell_type": "code",
     "collapsed": false,
     "input": [
      "eps(1.0f0)"
     ],
     "language": "python",
     "metadata": {},
     "outputs": []
    },
    {
     "cell_type": "code",
     "collapsed": false,
     "input": [
      "eps(1.0)"
     ],
     "language": "python",
     "metadata": {},
     "outputs": []
    },
    {
     "cell_type": "markdown",
     "metadata": {},
     "source": [
      "Here we've constructed two objects: one of type `Float32` and another of type `Float64`. Each of these types implements the `eps` method, but the definitions are distinct. This multiplicity of defintions allows us to see that the 64-bit floating point numbers are much more tightly packed around `1.0` than the 32-bit floating point numbers are."
     ]
    },
    {
     "cell_type": "markdown",
     "metadata": {},
     "source": [
      "The utility of expressing generic operations over abstract types is that we can avoid redefining similar methods for every single concrete type. For example, you might want to define a generic `sum` operation that sums over all elements of an array. In Julia, you could do that with something like:"
     ]
    },
    {
     "cell_type": "code",
     "collapsed": false,
     "input": [
      "function arraysum(x::AbstractArray)\n",
      "    res = x[1]\n",
      "    for i in 2:length(x)\n",
      "        res += x[i] \n",
      "    end\n",
      "    return res\n",
      "end"
     ],
     "language": "python",
     "metadata": {},
     "outputs": []
    },
    {
     "cell_type": "markdown",
     "metadata": {},
     "source": [
      "What makes this definition special is that it defines a function for many different objects that behave like arrays. Effectively, the definition is duck-typed: any object that can be indexed into using brackets and has a well defined length will work. But, just to be safe, our type annotation `x::AbstractArray` ensures that our function will throw an error if the user attempts to call `arraysum` with something that is definitely not an array:"
     ]
    },
    {
     "cell_type": "code",
     "collapsed": false,
     "input": [
      "arraysum(1)"
     ],
     "language": "python",
     "metadata": {},
     "outputs": []
    },
    {
     "cell_type": "markdown",
     "metadata": {},
     "source": [
      "Typing allows us to prevent certain classes of errors by rejecting inputs that couldn't be used correctly by a function. **But it is not important for performance and should never be used to try to provide performance.**\n",
      "\n",
      "To see that our function is still generic, despite being typed, we can call `arraysum` on both a proper Julia `Array` object and a Julia `Range` object:"
     ]
    },
    {
     "cell_type": "code",
     "collapsed": false,
     "input": [
      "arraysum([1, 2, 3])"
     ],
     "language": "python",
     "metadata": {},
     "outputs": []
    },
    {
     "cell_type": "code",
     "collapsed": false,
     "input": [
      "arraysum(1:3)"
     ],
     "language": "python",
     "metadata": {},
     "outputs": []
    },
    {
     "cell_type": "markdown",
     "metadata": {},
     "source": [
      "In addition to applying to both `Array` and `Range`, the definition applies to all array objects, whether they contain only elements of integer type or floating-point type:"
     ]
    },
    {
     "cell_type": "code",
     "collapsed": false,
     "input": [
      "arraysum([1.1, 2.9, 3.7])"
     ],
     "language": "python",
     "metadata": {},
     "outputs": []
    },
    {
     "cell_type": "markdown",
     "metadata": {},
     "source": [
      "What distinguishes Julia's duck-typing from Python's duck-typing is that the Julia compiler will compile a specialized version of our function that exploits information about the concrete types of its arguments. For example, Julia can exploit information about the types of the elements of an array to make `arraysum` faster. This trick depends upon a special fact: an array like `[1, 2, 3]` has a special type: `Array{Int}`. This type specifies that the array's elements are always of type `Int`, which means that many operations provide type information that they would otherwise not be able to provide. Let's see some more arrays."
     ]
    },
    {
     "cell_type": "heading",
     "level": 1,
     "metadata": {},
     "source": [
      "Arrays in Julia"
     ]
    },
    {
     "cell_type": "markdown",
     "metadata": {},
     "source": [
      "Julia's arrays are homogeneously typed and exhibit invariance. Let's go through some examples to see what that means."
     ]
    },
    {
     "cell_type": "markdown",
     "metadata": {},
     "source": [
      "Homogeneous typing shows up in examples like this:"
     ]
    },
    {
     "cell_type": "code",
     "collapsed": false,
     "input": [
      "[1, 2, 3]"
     ],
     "language": "python",
     "metadata": {},
     "outputs": []
    },
    {
     "cell_type": "code",
     "collapsed": false,
     "input": [
      "[1.0, 2.0, 3.0]"
     ],
     "language": "python",
     "metadata": {},
     "outputs": []
    },
    {
     "cell_type": "code",
     "collapsed": false,
     "input": [
      "[\"a\", \"b\", \"c\"]"
     ],
     "language": "python",
     "metadata": {},
     "outputs": []
    },
    {
     "cell_type": "markdown",
     "metadata": {},
     "source": [
      "You can force a type other than the \"natural\" type of the array's contents by prefixing the brackets with the name of a type:"
     ]
    },
    {
     "cell_type": "code",
     "collapsed": false,
     "input": [
      "Float64[1, 2, 3]"
     ],
     "language": "python",
     "metadata": {},
     "outputs": []
    },
    {
     "cell_type": "code",
     "collapsed": false,
     "input": [
      "Any[1, 2, 3]"
     ],
     "language": "python",
     "metadata": {},
     "outputs": []
    },
    {
     "cell_type": "markdown",
     "metadata": {},
     "source": [
      "Choosing the correct type for an array is very important, because the type of the array is a guarantee that every element in the array has that type. This allows the compiler to generate very efficient code for iterative constructs that loop over arrays."
     ]
    },
    {
     "cell_type": "markdown",
     "metadata": {},
     "source": [
      "But choosing types for arrays can be confusing at first because of invariance.\n",
      "\n",
      "To understand invariance, let's see how `Array{S}` relates to `Array{T}`.\n",
      "\n",
      "Consider, for example, `S = Int64` and `T = Integer`:"
     ]
    },
    {
     "cell_type": "code",
     "collapsed": false,
     "input": [
      "Int64 <: Integer"
     ],
     "language": "python",
     "metadata": {},
     "outputs": []
    },
    {
     "cell_type": "markdown",
     "metadata": {},
     "source": [
      "Invariance means that `Array{S}` is not a child-type of `Array{T}` and `Array{T}` is not a child-type of `Array{S}`:"
     ]
    },
    {
     "cell_type": "code",
     "collapsed": false,
     "input": [
      "Array{Int64} <: Array{Integer}"
     ],
     "language": "python",
     "metadata": {},
     "outputs": []
    },
    {
     "cell_type": "code",
     "collapsed": false,
     "input": [
      "Array{Integer} <: Array{Int64}"
     ],
     "language": "python",
     "metadata": {},
     "outputs": []
    },
    {
     "cell_type": "markdown",
     "metadata": {},
     "source": [
      "The reason for this is simple: the most desirable type relationship between arrays depends on the operation you're performing. If you're reading from an array and can handle an `Array{Integer}`, then it's definitely safe for me to provide you with `Array{Int}` instead. But it's not safe for you to write to `Array{Int}` if you're expecting `Array{Integer}` since you might try writing a `BigInt` instead of an `Int`. The only way both reading and writing can be safe is when parametrized types have no subtyping relationships derived from their parameters."
     ]
    },
    {
     "cell_type": "heading",
     "level": 1,
     "metadata": {},
     "source": [
      "Immutable Types"
     ]
    },
    {
     "cell_type": "markdown",
     "metadata": {},
     "source": [
      "The description of Julia's type system we've given so far is an oversimplification. In reality, Julia distinguishes between two kinds of concrete types: mutable types (defined using `type`) and immutable types (defined using `immutable`). Immutable types are used to represent values, whereas mutable types are more like containers. A mutable type that contains a single `Int` value can be mutated so that it contains a distinct `Int` value; this is the sense in which it is like a container. Alternatively, a mutable type can be said to have identity: we can distinguish between two distinct \"objects\" that happen to have the same value.\n",
      "\n",
      "An immutable type cannot be changed after it is created, so it is really just a fancy value. This is useful for representing complex values, starting from complex numbers and working up to things like probability distributions. The normal distribution with mean 0 and variance 1 is a single thing: we should not be able to distinguish between two instances of it. (Indeed, we shouldn't even have \"instances\" of it: there should be only one such object that could ever exist.)\n",
      "\n",
      "We create immutable types using the keyword `immutable`:"
     ]
    },
    {
     "cell_type": "code",
     "collapsed": false,
     "input": [
      "immutable Foo3\n",
      "    a::Int\n",
      "end"
     ],
     "language": "python",
     "metadata": {},
     "outputs": []
    },
    {
     "cell_type": "code",
     "collapsed": false,
     "input": [
      "Foo3(1)"
     ],
     "language": "python",
     "metadata": {},
     "outputs": []
    },
    {
     "cell_type": "markdown",
     "metadata": {},
     "source": [
      "As the name suggests, immutable types are useful for enforcing immutability.\n",
      "\n",
      "But they are also useful for writing more efficient code, because the absence of object identity means that values can be represented much more efficiently in memory. This is particularly striking for small immutable types, like 2-dimensional points:"
     ]
    },
    {
     "cell_type": "code",
     "collapsed": false,
     "input": [
      "immutable Point\n",
      "    x::Float64\n",
      "    y::Float64\n",
      "end"
     ],
     "language": "python",
     "metadata": {},
     "outputs": []
    },
    {
     "cell_type": "code",
     "collapsed": false,
     "input": [
      "Point(1.0, 2.0)"
     ],
     "language": "python",
     "metadata": {},
     "outputs": []
    },
    {
     "cell_type": "markdown",
     "metadata": {},
     "source": [
      "An array of `Point` objects can be represented in-line in memory, whereas an array of mutable objects with an analogous definition would require indirection via pointers. We'll see more about this later."
     ]
    },
    {
     "cell_type": "heading",
     "level": 1,
     "metadata": {},
     "source": [
      "Type Inference"
     ]
    },
    {
     "cell_type": "markdown",
     "metadata": {},
     "source": [
      "So far we've seen how Julia's type system works. But we need to understand how types are used to generate high-performance code. To do that, we need to understand type inference.\n",
      "\n",
      "In order to generate efficient specialized code for functions during dispatch, Julia needs to infer the types of all intermediate variables used in a function. This type inference process attempts to assign maximally specific types to all variables in a function body.\n",
      "\n",
      "Let's start with a simple function:"
     ]
    },
    {
     "cell_type": "code",
     "collapsed": false,
     "input": [
      "function mathy(x)\n",
      "    y = x + sin(3.0)\n",
      "    z = exp(y) + y\n",
      "    return z\n",
      "end"
     ],
     "language": "python",
     "metadata": {},
     "outputs": []
    },
    {
     "cell_type": "markdown",
     "metadata": {},
     "source": [
      "Now we'll look at the results of the type inference process for this code, given an argument of type `Float64`. Be warned that the result is hairy."
     ]
    },
    {
     "cell_type": "code",
     "collapsed": false,
     "input": [
      "code_typed(mathy, (Float64, ))"
     ],
     "language": "python",
     "metadata": {},
     "outputs": []
    },
    {
     "cell_type": "markdown",
     "metadata": {},
     "source": [
      "Julia can generate efficient code when all of the variables in a function have a single possible representation in memory. Let's see what happens when the type inference process doesn't succeed at doing that."
     ]
    },
    {
     "cell_type": "heading",
     "level": 1,
     "metadata": {},
     "source": [
      "Type-Uncertainty and Type-Stability"
     ]
    },
    {
     "cell_type": "markdown",
     "metadata": {},
     "source": [
      "The bane of type inference is uncertainty about types:"
     ]
    },
    {
     "cell_type": "code",
     "collapsed": false,
     "input": [
      "function wonky(x)\n",
      "    if iseven(x)\n",
      "        y = 1\n",
      "    else\n",
      "        y = 1.1\n",
      "    end\n",
      "    return sin(y)\n",
      "end\n",
      "\n",
      "function notwonky(x)\n",
      "    if iseven(x)\n",
      "        y = 1\n",
      "    else\n",
      "        y = 2\n",
      "    end\n",
      "    return sin(y)\n",
      "end"
     ],
     "language": "python",
     "metadata": {},
     "outputs": []
    },
    {
     "cell_type": "code",
     "collapsed": false,
     "input": [
      "code_typed(wonky, (Int, ))"
     ],
     "language": "python",
     "metadata": {},
     "outputs": []
    },
    {
     "cell_type": "code",
     "collapsed": false,
     "input": [
      "code_typed(notwonky, (Int, ))"
     ],
     "language": "python",
     "metadata": {},
     "outputs": []
    },
    {
     "cell_type": "markdown",
     "metadata": {},
     "source": [
      "The branch in this code means that one input path produces `Int64` output and another produces a `Float64` output. This is bad for performance, because values need to be heap-allocated that were otherwise stack-allocated:"
     ]
    },
    {
     "cell_type": "code",
     "collapsed": false,
     "input": [
      "@time for itr in 1:10_000_000\n",
      "    wonky(1)\n",
      "end\n",
      "\n",
      "@time for itr in 1:10_000_000\n",
      "    notwonky(1)\n",
      "end"
     ],
     "language": "python",
     "metadata": {},
     "outputs": []
    },
    {
     "cell_type": "markdown",
     "metadata": {},
     "source": [
      "In this example, the performance cost is only 3x. It is possible to see 100x performance degradations from type problems."
     ]
    },
    {
     "cell_type": "heading",
     "level": 1,
     "metadata": {},
     "source": [
      "Modules"
     ]
    },
    {
     "cell_type": "markdown",
     "metadata": {},
     "source": [
      "In order to segregate namespaces, Julia uses modules. We can create a simple module as follows:"
     ]
    },
    {
     "cell_type": "code",
     "collapsed": false,
     "input": [
      "module Foo5\n",
      "    a = 1\n",
      "    b = \"z\"\n",
      "end"
     ],
     "language": "python",
     "metadata": {},
     "outputs": []
    },
    {
     "cell_type": "code",
     "collapsed": false,
     "input": [
      "Foo5.a, Foo5.b"
     ],
     "language": "python",
     "metadata": {},
     "outputs": []
    },
    {
     "cell_type": "markdown",
     "metadata": {},
     "source": [
      "Unlike some languages, modules are not linked to files. A single file can contain multiple modules and a single module can be split up over multiple files. Conventions about files are possible (and used to defined packages), but are not strictly enforced."
     ]
    },
    {
     "cell_type": "heading",
     "level": 1,
     "metadata": {},
     "source": [
      "Packages"
     ]
    },
    {
     "cell_type": "markdown",
     "metadata": {},
     "source": [
      "Julia's package system is built on top of modules. When you run `using MyPackage`, Julia looks in the package directory for a sub-directory called `MyPackage`. Inside of that directory, it tries to read `MyPackage/src/MyPackage.jl`. This file must contain a module called `MyPackage` that contains the content of the code for the package."
     ]
    },
    {
     "cell_type": "heading",
     "level": 1,
     "metadata": {},
     "source": [
      "Writing fast Julia code"
     ]
    },
    {
     "cell_type": "markdown",
     "metadata": {},
     "source": [
      "* Make sure everything can be concretely typed within a function body\n",
      "* Use immutables whenever possible to move memory from the heap to the stack\n",
      "* Completely avoid allocating memory when it's not needed"
     ]
    },
    {
     "cell_type": "heading",
     "level": 1,
     "metadata": {},
     "source": [
      "Mutation"
     ]
    },
    {
     "cell_type": "markdown",
     "metadata": {},
     "source": [
      "Writing fast code requires that you avoid allocating memory you don't need. This is how low-level libraries like BLAS and LAPACK work. You can achieve this same effect by writing functions that mutate their arguments. For example, here is an efficient way to square all elements of an array:"
     ]
    },
    {
     "cell_type": "code",
     "collapsed": false,
     "input": [
      "function arraysq!(x::Array)\n",
      "    for i in 1:length(x)\n",
      "        x[i] = x[i]^2\n",
      "    end\n",
      "    return\n",
      "end"
     ],
     "language": "python",
     "metadata": {},
     "outputs": []
    },
    {
     "cell_type": "code",
     "collapsed": false,
     "input": [
      "x = [1.0, 2.0, 3.0]\n",
      "arraysq!(x)\n",
      "x"
     ],
     "language": "python",
     "metadata": {},
     "outputs": []
    },
    {
     "cell_type": "markdown",
     "metadata": {},
     "source": [
      "In contrast, here is a way to square all of the elements, but store the outputs in a new object."
     ]
    },
    {
     "cell_type": "code",
     "collapsed": false,
     "input": [
      "function arraysq(x::Array)\n",
      "    y = similar(x)\n",
      "    for i in 1:length(x)\n",
      "        y[i] = x[i]^2\n",
      "    end\n",
      "    return y\n",
      "end"
     ],
     "language": "python",
     "metadata": {},
     "outputs": []
    },
    {
     "cell_type": "code",
     "collapsed": false,
     "input": [
      "@time for itr in 1:1_000_000\n",
      "    arraysq(x)\n",
      "end\n",
      "\n",
      "@time for itr in 1:1_000_000\n",
      "    arraysq!(x)\n",
      "end"
     ],
     "language": "python",
     "metadata": {},
     "outputs": []
    },
    {
     "cell_type": "markdown",
     "metadata": {},
     "source": [
      "Here we see a 10x slowdown from allocating memory. Don't allocate memory you don't need. It makes your program memory-hungry and slow. Writing pure functions is great, but there are many cases where purity is a handicap."
     ]
    },
    {
     "cell_type": "heading",
     "level": 1,
     "metadata": {},
     "source": [
      "Macros"
     ]
    },
    {
     "cell_type": "markdown",
     "metadata": {},
     "source": [
      "Julia's approach to metaprogramming derives from Lisp: you write macros, which rewrite expressions at parse-time.\n",
      "\n",
      "Many important Julia tools are written as macros, so you need a cursory understanding of how they work to use Julia at all. We won't have time to learn how to write macros in depth, so let's just call one -- the `@time` macro:"
     ]
    },
    {
     "cell_type": "code",
     "collapsed": false,
     "input": [
      "@time sqrt(1.0)"
     ],
     "language": "python",
     "metadata": {},
     "outputs": []
    },
    {
     "cell_type": "code",
     "collapsed": false,
     "input": [
      "macroexpand(:(@time sqrt(1.0)))"
     ],
     "language": "python",
     "metadata": {},
     "outputs": []
    },
    {
     "cell_type": "markdown",
     "metadata": {},
     "source": [
      "First, we've invoked the `@time` macro. After that, we showed what our invocation expands into at parse-time. The result is a little hard to read, but gives you a sense of the much more complicated expression that we've avoided writing by hand.\n",
      "\n",
      "This reflects a general lesson: a macro is just a way to avoid writing boilerplate code. Every macro can always be replaced with its expansion at parse-time without modifying its semantics."
     ]
    },
    {
     "cell_type": "heading",
     "level": 1,
     "metadata": {},
     "source": [
      "Putting Julia to Use"
     ]
    },
    {
     "cell_type": "markdown",
     "metadata": {},
     "source": [
      "That's enough Julia to get you started. Let's switch to bandits now."
     ]
    }
   ],
   "metadata": {}
  }
 ]
}